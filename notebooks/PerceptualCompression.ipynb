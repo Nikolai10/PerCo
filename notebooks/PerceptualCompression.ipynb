{
 "cells": [
  {
   "cell_type": "markdown",
   "id": "5df1c280-78ad-4a1b-a8fc-6f48a913d2ad",
   "metadata": {},
   "source": [
    "```\n",
    "Copyright 2024 Nikolai Körber. All Rights Reserved.\n",
    "\n",
    "Licensed under the Apache License, Version 2.0 (the \"License\");\n",
    "you may not use this file except in compliance with the License.\n",
    "You may obtain a copy of the License at\n",
    "\n",
    "    http://www.apache.org/licenses/LICENSE-2.0\n",
    "\n",
    "Unless required by applicable law or agreed to in writing, software\n",
    "distributed under the License is distributed on an \"AS IS\" BASIS,\n",
    "WITHOUT WARRANTIES OR CONDITIONS OF ANY KIND, either express or implied.\n",
    "See the License for the specific language governing permissions and\n",
    "limitations under the License.\n",
    "```"
   ]
  },
  {
   "cell_type": "markdown",
   "id": "5def33ef-d1de-486f-b372-239f4a690800",
   "metadata": {},
   "source": [
    "# PerCo (Stable Diffusion) v0.27.0"
   ]
  },
  {
   "cell_type": "markdown",
   "id": "493db9a6-b405-4deb-98fc-7c068ffa7cf9",
   "metadata": {},
   "source": [
    "## Install"
   ]
  },
  {
   "cell_type": "code",
   "execution_count": null,
   "id": "150717fa-e888-4346-897d-34c02849cab8",
   "metadata": {
    "scrolled": true
   },
   "outputs": [],
   "source": [
    "#!pip install bitsandbytes\n",
    "#!pip install accelerate\n",
    "#!pip install transformers==4.37.2\n",
    "#!pip install vector-quantize-pytorch\n",
    "#!pip install torchac\n",
    "#!pip install Ninja\n",
    "#!pip install onnxruntime-training\n",
    "#!pip install tensorflow-datasets\n",
    "#!pip install datasets\n",
    "#!pip install torchvision\n",
    "#!pip install compressai\n",
    "#!pip install torchmetrics\n",
    "#!pip install clean-fid\n",
    "#!pip install lpips"
   ]
  },
  {
   "cell_type": "code",
   "execution_count": null,
   "id": "8bc81833-6253-443e-be76-6a5e4c2a0f1e",
   "metadata": {},
   "outputs": [],
   "source": [
    "!accelerate config default"
   ]
  },
  {
   "cell_type": "markdown",
   "id": "d4c83889-ccb5-4121-b319-ef03ddeadbcc",
   "metadata": {},
   "source": [
    "## TensorBoard"
   ]
  },
  {
   "cell_type": "code",
   "execution_count": null,
   "id": "0eea69df-3574-4457-8cc0-9d7a0b7baddb",
   "metadata": {},
   "outputs": [],
   "source": [
    "# Load the TensorBoard notebook extension\n",
    "%load_ext tensorboard\n",
    "%tensorboard --logdir /tf/notebooks/PerCo/res/cmvl_2024/logs/ --host 0.0.0.0 --port=6010"
   ]
  },
  {
   "cell_type": "markdown",
   "id": "a58c8c76-5546-43a1-975e-f00e76714c70",
   "metadata": {},
   "source": [
    "## Train"
   ]
  },
  {
   "cell_type": "code",
   "execution_count": null,
   "id": "b0b7b6f1-b0a5-4cf0-95e3-c97d45a55bd9",
   "metadata": {
    "scrolled": true
   },
   "outputs": [],
   "source": [
    "# BS = train_batch_size * num_processes * gradient_accumulation_steps = 160\n",
    "# --resume_from_checkpoint=\"latest\" \\\n",
    "# --use_ema \\\n",
    "# --snr_gamma=5.0 \\\n",
    "# --gradient_checkpointing \\\n",
    "# --use_lpips \\\n",
    "# --pretrained_model_name_or_path=\"runwayml/stable-diffusion-v1-5\" \\\n",
    "\n",
    "# note that prediction_type must equal config.py prediction_type\n",
    "# caution: parsing arguments other than provided might be ignored\n",
    "!accelerate launch --multi_gpu --num_processes=8 /tf/notebooks/PerCo/src/train_sd_perco.py \\\n",
    "  --pretrained_model_name_or_path=\"stabilityai/stable-diffusion-2-1\" \\\n",
    "  --validation_image \"/tf/notebooks/PerCo/res/eval/kodim13.png\" \"/tf/notebooks/PerCo/res/eval/kodim23.png\" \\\n",
    "  --allow_tf32 \\\n",
    "  --dataloader_num_workers=12 \\\n",
    "  --resolution=512 --center_crop --random_flip \\\n",
    "  --train_batch_size=20 \\\n",
    "  --gradient_accumulation_steps=1 \\\n",
    "  --num_train_epochs=5 \\\n",
    "  --max_train_steps 50000 \\\n",
    "  --validation_steps 500 \\\n",
    "  --prediction_type=\"v_prediction\" \\\n",
    "  --checkpointing_steps 500 \\\n",
    "  --learning_rate=1e-05 \\\n",
    "  --adam_weight_decay=1e-2 \\\n",
    "  --max_grad_norm=1 \\\n",
    "  --lr_scheduler=\"constant\" \\\n",
    "  --lr_warmup_steps=10000 \\\n",
    "  --checkpoints_total_limit=2 \\\n",
    "  --output_dir=\"/tf/notebooks/PerCo/res/cmvl_2024\""
   ]
  },
  {
   "cell_type": "markdown",
   "id": "fb9d4f4e-57e2-4781-86aa-958d1cc5ffa7",
   "metadata": {},
   "source": [
    "## Compression"
   ]
  },
  {
   "cell_type": "code",
   "execution_count": null,
   "id": "49e843b1-f747-448e-9706-fed434cf75a0",
   "metadata": {},
   "outputs": [],
   "source": [
    "# evaluate single image\n",
    "!python /tf/notebooks/PerCo/src/compression_utils.py -V --model_path \"/tf/notebooks/PerCo/res/cmvl_2024\" compress /tf/notebooks/PerCo/res/eval/kodim13.png /tf/notebooks/PerCo/res/eval/kodim13.pkl"
   ]
  },
  {
   "cell_type": "code",
   "execution_count": null,
   "id": "4a28b60c-1910-4e5a-abad-16c712933b76",
   "metadata": {},
   "outputs": [],
   "source": [
    "# compress only\n",
    "!python /tf/notebooks/PerCo/src/compression_utils.py --model_path \"/tf/notebooks/PerCo/res/cmvl_2024\" compress /tf/notebooks/PerCo/res/eval/kodim13.png /tf/notebooks/PerCo/res/eval/kodim13.pkl"
   ]
  },
  {
   "cell_type": "code",
   "execution_count": null,
   "id": "3cf25760-93a6-4203-bb22-50de3407725b",
   "metadata": {},
   "outputs": [],
   "source": [
    "# decompress only\n",
    "!python /tf/notebooks/PerCo/src/compression_utils.py --model_path \"/tf/notebooks/PerCo/res/cmvl_2024\" decompress /tf/notebooks/PerCo/res/eval/kodim13.pkl /tf/notebooks/PerCo/res/eval/kodim13_hat.png"
   ]
  },
  {
   "cell_type": "markdown",
   "id": "95246de7-2341-4bfb-b3ac-f0dce54f2ca6",
   "metadata": {},
   "source": [
    "## Eval Kodak"
   ]
  },
  {
   "cell_type": "code",
   "execution_count": null,
   "id": "5c7b3a30-63b3-48c3-a35a-a92628757742",
   "metadata": {
    "scrolled": true
   },
   "outputs": [],
   "source": [
    "# generate reconstructions, compute BPP, PSNR, MS-SSIM, LPIPS\n",
    "!python /tf/notebooks/PerCo/src/compression_utils.py --model_path \"/tf/notebooks/PerCo/res/cmvl_2024\" evaluate_ds --mode 0 --in_dir \"/tf/notebooks/PerCo/res/data/Kodak/\" --out_dir \"/tf/notebooks/PerCo/res/data/Kodak_gen/\""
   ]
  },
  {
   "cell_type": "code",
   "execution_count": null,
   "id": "f1615d2a-9811-4d55-b288-3050d9d10653",
   "metadata": {},
   "outputs": [],
   "source": [
    "# compute metrics (FID + KID)\n",
    "!python /tf/notebooks/PerCo/src/compression_utils.py --model_path \"/tf/notebooks/PerCo/res/cmvl_2024\" evaluate_ds --mode 1 --out_dir \"/tf/notebooks/PerCo/res/data/Kodak_gen/\""
   ]
  },
  {
   "cell_type": "markdown",
   "id": "e6b26fa3-428d-4d0b-9dd4-e35614880353",
   "metadata": {},
   "source": [
    "## Eval MS-COCO 30k"
   ]
  },
  {
   "cell_type": "code",
   "execution_count": null,
   "id": "bd429d56-7050-4ac0-aa7b-2edbd8d744fd",
   "metadata": {
    "scrolled": true
   },
   "outputs": [],
   "source": [
    "# generate reconstructions, compute BPP, PSNR, MS-SSIM, LPIPS\n",
    "!python /tf/notebooks/PerCo/src/compression_utils.py --model_path \"/tf/notebooks/PerCo/res/cmvl_2024\" evaluate_ds --mode 0 --in_dir \"/tf/notebooks/PerCo/res/data/MSCOCO30k/\" --out_dir \"/tf/notebooks/PerCo/res/data/MSCOCO30k_gen/\""
   ]
  },
  {
   "cell_type": "code",
   "execution_count": null,
   "id": "ccf55791-42ce-4a50-b3c0-bb63b087370f",
   "metadata": {},
   "outputs": [],
   "source": [
    "# compute metrics (FID + KID)\n",
    "!python /tf/notebooks/PerCo/src/compression_utils.py --model_path \"/tf/notebooks/PerCo/res/cmvl_2024\" evaluate_ds --mode 1 --out_dir \"/tf/notebooks/PerCo/res/data/MSCOCO30k_gen/\""
   ]
  },
  {
   "cell_type": "code",
   "execution_count": null,
   "id": "ecede371-89fb-4caa-986b-339f10103473",
   "metadata": {},
   "outputs": [],
   "source": []
  }
 ],
 "metadata": {
  "kernelspec": {
   "display_name": "Python 3 (ipykernel)",
   "language": "python",
   "name": "python3"
  },
  "language_info": {
   "codemirror_mode": {
    "name": "ipython",
    "version": 3
   },
   "file_extension": ".py",
   "mimetype": "text/x-python",
   "name": "python",
   "nbconvert_exporter": "python",
   "pygments_lexer": "ipython3",
   "version": "3.11.0rc1"
  }
 },
 "nbformat": 4,
 "nbformat_minor": 5
}