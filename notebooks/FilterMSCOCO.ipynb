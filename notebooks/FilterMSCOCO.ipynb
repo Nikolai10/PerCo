{
 "cells": [
  {
   "cell_type": "markdown",
   "id": "62ff5bda-3244-43bc-b4f2-e5b721396efa",
   "metadata": {},
   "source": [
    "```\n",
    "Copyright 2024 Nikolai Körber. All Rights Reserved.\n",
    "\n",
    "Licensed under the Apache License, Version 2.0 (the \"License\");\n",
    "you may not use this file except in compliance with the License.\n",
    "You may obtain a copy of the License at\n",
    "\n",
    "    http://www.apache.org/licenses/LICENSE-2.0\n",
    "\n",
    "Unless required by applicable law or agreed to in writing, software\n",
    "distributed under the License is distributed on an \"AS IS\" BASIS,\n",
    "WITHOUT WARRANTIES OR CONDITIONS OF ANY KIND, either express or implied.\n",
    "See the License for the specific language governing permissions and\n",
    "limitations under the License.\n",
    "```"
   ]
  },
  {
   "cell_type": "markdown",
   "id": "a81abf7e-29e7-48ff-a83c-697650ee9ca7",
   "metadata": {},
   "source": [
    "## Instructions used to obtain MS-COCO 30k"
   ]
  },
  {
   "cell_type": "code",
   "execution_count": null,
   "id": "2cbef287-4796-4abe-970a-6ed2a006cbe0",
   "metadata": {},
   "outputs": [],
   "source": [
    "relevant_name = '/tf/notebooks/PerCo/res/doc/coco_names.txt'\n",
    "mscoco2017_train = '/tf/notebooks/MSCOCO/train2017'\n",
    "filtered_mscoco2017_train = '/tf/notebooks/PerCo/res/data/MSCOCO30k'"
   ]
  },
  {
   "cell_type": "code",
   "execution_count": null,
   "id": "c8bfbf06-dce8-4ff3-a7e1-5ef531769793",
   "metadata": {},
   "outputs": [],
   "source": [
    "import os\n",
    "import shutil\n",
    "\n",
    "# Read relevant names from file\n",
    "with open(relevant_name, 'r') as file:\n",
    "    relevant_names = set(file.read().splitlines())"
   ]
  },
  {
   "cell_type": "code",
   "execution_count": null,
   "id": "e851f89a-2b21-4014-8512-843ae6b0a3c1",
   "metadata": {},
   "outputs": [],
   "source": [
    "# Ensure the output directory exists\n",
    "os.makedirs(filtered_mscoco2017_train, exist_ok=True)"
   ]
  },
  {
   "cell_type": "code",
   "execution_count": null,
   "id": "a96e25e5-804f-4186-af8e-a1651b32193b",
   "metadata": {},
   "outputs": [],
   "source": [
    "# Iterate over images in mscoco2017_train directory\n",
    "for filename in os.listdir(mscoco2017_train):\n",
    "    if filename.endswith(('.jpg', '.png')):\n",
    "        image_path = os.path.join(mscoco2017_train, filename)\n",
    "        # Check if image name is in the relevant names set\n",
    "        if filename in relevant_names:\n",
    "            # Copy the image to the filtered_mscoco2017_train directory\n",
    "            shutil.copy(image_path, filtered_mscoco2017_train)"
   ]
  }
 ],
 "metadata": {
  "kernelspec": {
   "display_name": "Python 3 (ipykernel)",
   "language": "python",
   "name": "python3"
  },
  "language_info": {
   "codemirror_mode": {
    "name": "ipython",
    "version": 3
   },
   "file_extension": ".py",
   "mimetype": "text/x-python",
   "name": "python",
   "nbconvert_exporter": "python",
   "pygments_lexer": "ipython3",
   "version": "3.11.0rc1"
  }
 },
 "nbformat": 4,
 "nbformat_minor": 5
}
